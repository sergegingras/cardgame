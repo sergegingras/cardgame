{
 "cells": [
  {
   "cell_type": "code",
   "execution_count": 1,
   "metadata": {},
   "outputs": [],
   "source": [
    "import random\n",
    "\n",
    "suits = ('Hearts','Diamonds','Spades','Clubs')\n",
    "ranks = ('Two','Three','Four','Five','Six','Seven','Eight','Nine','Ten','Jack','Queen','King','Ace')\n",
    "values = {'Two':2,'Three':3,'Four':4,'Five':5,'Six':6,'Seven':7,'Eight':8,'Nine':9,'Ten':10,'Jack':10,'Queen':10,'King':10,'Ace':11}\n",
    "\n",
    "player = True\n",
    "\n",
    "class card():\n",
    "\tdef __init__(self,suit,rank):\n",
    "\t\tself.suit = suit\n",
    "\t\tself.rank = rank\n",
    "\n",
    "\tdef __str__(self):\n",
    "\t\treturn self.rank + \" of \" + self.suit\n",
    "\n",
    "class deck():\n",
    "\t\n",
    "\tdef __init__(self):\n",
    "\t\tself.deck = []\n",
    "\t\tfor suit in suits:\n",
    "\t\t\tfor rank in ranks:\n",
    "\t\t\t\tself.deck.append(card(suit, rank))\n",
    "\n",
    "\tdef __str__(self):\n",
    "\t\tdeck_comp = ''\n",
    "\t\tfor card in self.deck:\n",
    "\t\t\tdeck_comp += '\\n' + card.__str__()\n",
    "\t\treturn \"the deck has: \"+deck_comp\n",
    "\n",
    "\n",
    "\tdef shuffle(self):\n",
    "\t\trandom.shuffle(self.deck)\n",
    "\n",
    "\tdef deal(self):\n",
    "\t\tsingle_card = self.deck.pop()\n",
    "\t\treturn single_card\n",
    "\n",
    "class hand():\n",
    "\tdef __init__(self):\n",
    "\t\tself.cards = []\n",
    "\t\tself.value = 0\n",
    "\t\tself.aces = 0\n",
    "\n",
    "\tdef add_card(self,card):\n",
    "\t\t#the card passed in is from the deck.deal() --> card(suit,rank)\n",
    "\t\t#remember that the list of cards is actually a list of pointers to the object\n",
    "\t\t#when i pull it from the list the object still exists but it has been moved into \n",
    "\t\t#the players hand. (there is always an object...)\n",
    "\t\t#very poorly explained. \n",
    "\t\tself.cards.append(card)\n",
    "\t\tself.value += values[card.rank]\n",
    "\n",
    "\tdef adjust_for_aces(self):\n",
    "\t\tpass\n",
    "\n",
    "\n"
   ]
  },
  {
   "cell_type": "code",
   "execution_count": 4,
   "metadata": {},
   "outputs": [
    {
     "name": "stdout",
     "output_type": "stream",
     "text": [
      "Nine of Hearts\n"
     ]
    },
    {
     "ename": "AttributeError",
     "evalue": "'NoneType' object has no attribute 'value'",
     "output_type": "error",
     "traceback": [
      "\u001b[0;31m---------------------------------------------------------------------------\u001b[0m",
      "\u001b[0;31mAttributeError\u001b[0m                            Traceback (most recent call last)",
      "\u001b[0;32m<ipython-input-4-0dc752ff3385>\u001b[0m in \u001b[0;36m<module>\u001b[0;34m()\u001b[0m\n\u001b[1;32m      8\u001b[0m \u001b[0mpulled_card\u001b[0m \u001b[0;34m=\u001b[0m \u001b[0mtest_deck\u001b[0m\u001b[0;34m.\u001b[0m\u001b[0mdeal\u001b[0m\u001b[0;34m(\u001b[0m\u001b[0;34m)\u001b[0m\u001b[0;34m\u001b[0m\u001b[0m\n\u001b[1;32m      9\u001b[0m \u001b[0;32mprint\u001b[0m\u001b[0;34m(\u001b[0m\u001b[0mpulled_card\u001b[0m\u001b[0;34m)\u001b[0m\u001b[0;34m\u001b[0m\u001b[0m\n\u001b[0;32m---> 10\u001b[0;31m \u001b[0;32mprint\u001b[0m\u001b[0;34m(\u001b[0m\u001b[0mtest_player\u001b[0m\u001b[0;34m.\u001b[0m\u001b[0mvalue\u001b[0m\u001b[0;34m(\u001b[0m\u001b[0;34m)\u001b[0m\u001b[0;34m)\u001b[0m\u001b[0;34m\u001b[0m\u001b[0m\n\u001b[0m",
      "\u001b[0;31mAttributeError\u001b[0m: 'NoneType' object has no attribute 'value'"
     ]
    }
   ],
   "source": [
    "test_deck = deck()\n",
    "test_deck.shuffle()\n",
    "\t\n",
    "#test player\n",
    "test_player = hand()\n",
    "#deal 1 card from deck card(suit,rank) this is a card object I'm pulling\n",
    "#really you are pulling the memory location to the card\n",
    "pulled_card = test_deck.deal()\n",
    "print(pulled_card)\n",
    "print(test_player.value())"
   ]
  },
  {
   "cell_type": "code",
   "execution_count": 5,
   "metadata": {},
   "outputs": [],
   "source": [
    "zero  = 0\n",
    "one = 1\n",
    "two = 2\n"
   ]
  },
  {
   "cell_type": "code",
   "execution_count": 6,
   "metadata": {},
   "outputs": [
    {
     "name": "stdout",
     "output_type": "stream",
     "text": [
      "0\n"
     ]
    }
   ],
   "source": [
    "print (zero)"
   ]
  },
  {
   "cell_type": "code",
   "execution_count": 7,
   "metadata": {},
   "outputs": [],
   "source": [
    "if zero:\n",
    "    print('True')"
   ]
  },
  {
   "cell_type": "code",
   "execution_count": 8,
   "metadata": {},
   "outputs": [
    {
     "name": "stdout",
     "output_type": "stream",
     "text": [
      "True\n"
     ]
    }
   ],
   "source": [
    "if one:\n",
    "    print('True')"
   ]
  },
  {
   "cell_type": "code",
   "execution_count": null,
   "metadata": {},
   "outputs": [],
   "source": []
  }
 ],
 "metadata": {
  "kernelspec": {
   "display_name": "Python 3",
   "language": "python",
   "name": "python3"
  },
  "language_info": {
   "codemirror_mode": {
    "name": "ipython",
    "version": 2
   },
   "file_extension": ".py",
   "mimetype": "text/x-python",
   "name": "python",
   "nbconvert_exporter": "python",
   "pygments_lexer": "ipython2",
   "version": "2.7.15"
  }
 },
 "nbformat": 4,
 "nbformat_minor": 2
}
